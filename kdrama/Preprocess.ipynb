{
 "cells": [
  {
   "cell_type": "code",
   "execution_count": 1,
   "metadata": {},
   "outputs": [],
   "source": [
    "import os\n",
    "import re\n",
    "\n",
    "import json\n",
    "from collections import OrderedDict\n",
    "import numpy as np\n",
    "import random\n",
    "\n",
    "from preprocess import make_metafile, preprocess, seperate_train_val\n",
    "\n",
    "dir_base = '/home/dhlee/Data/TTS/Kdrama'\n",
    "dir_wav = os.path.join(dir_base, 'wav')\n",
    "\n",
    "\n",
    "sample_rate = 16000\n",
    "n_fft = 1024\n",
    "trim_db = 60\n",
    "\n",
    "subdir_train = 'train_' + str(sample_rate) + '_' + str(n_fft) \n",
    "subdir_test = 'test_' + str(sample_rate) + '_' + str(n_fft) \n"
   ]
  },
  {
   "cell_type": "code",
   "execution_count": 2,
   "metadata": {},
   "outputs": [],
   "source": [
    "dramas  = ['Answer1994', 'Answer1997', 'Emergency', 'GodQuiz', 'NeedRomance', 'NeedRomance3', \n",
    "           'OKLove', 'PotatoStar', 'WitchLove', 'YouFromStar']\n",
    "episodes = {'Answer1994':[1, 2, 3, 4, 5, 6, 7, 8, 9, 10, 11, 12, 13, 15, 16, 17, 18, 20, 21], \n",
    "           'Answer1997': [14], \n",
    "           'Emergency':[1, 2, 3, 4, 5, 6, 7, 9, 10, 11, 12, 13, 14, 15, 16, 17, 18, 19, 20, 21], \n",
    "           'GodQuiz': [1, 2, 3, 4, 5, 6, 8, 9, 10], \n",
    "           'NeedRomance': [1, 2, 3, 4, 5, 6, 8, 9, 10, 11, 12, 13, 14, 15, 16], \n",
    "           'NeedRomance3': list(range(1, 17)), \n",
    "           'OKLove': [1, 2, 3, 4, 5, 6, 7, 8, 9], \n",
    "           'PotatoStar': list(range(2, 99)) + [100, 101, 102] + list(range(104, 119)) + [120], \n",
    "           'WitchLove': list(range(1, 7)), \n",
    "           'YouFromStar': list(range(2, 19)) + [20, 21]}"
   ]
  },
  {
   "cell_type": "code",
   "execution_count": 3,
   "metadata": {},
   "outputs": [],
   "source": [
    "make_metafile(dir_wav, os.path.join(dir_base, 'meta.txt'))"
   ]
  },
  {
   "cell_type": "code",
   "execution_count": 4,
   "metadata": {},
   "outputs": [],
   "source": [
    "seperate_train_val(os.path.join(dir_base, 'meta.txt'))"
   ]
  },
  {
   "cell_type": "code",
   "execution_count": 3,
   "metadata": {},
   "outputs": [
    {
     "name": "stderr",
     "output_type": "stream",
     "text": [
      "100%|██████████| 110902/110902 [1:33:25<00:00, 19.78it/s]  \n"
     ]
    }
   ],
   "source": [
    "preprocess(os.path.join(dir_base, 'train_meta.txt'), dir_base, out_subdir=subdir_train, sample_rate=sample_rate, trim_db=trim_db)"
   ]
  },
  {
   "cell_type": "code",
   "execution_count": 2,
   "metadata": {},
   "outputs": [
    {
     "name": "stderr",
     "output_type": "stream",
     "text": [
      "100%|██████████| 27725/27725 [07:50<00:00, 58.96it/s] \n"
     ]
    }
   ],
   "source": [
    "preprocess(os.path.join(dir_base, 'val_meta.txt'), dir_base, out_subdir=subdir_test, sample_rate=sample_rate, trim_db=trim_db)"
   ]
  },
  {
   "cell_type": "markdown",
   "metadata": {},
   "source": [
    "# Test Dataset\n"
   ]
  },
  {
   "cell_type": "code",
   "execution_count": 2,
   "metadata": {},
   "outputs": [],
   "source": [
    "from kdrama_dataset import KdramaDataset"
   ]
  },
  {
   "cell_type": "code",
   "execution_count": 4,
   "metadata": {},
   "outputs": [
    {
     "name": "stderr",
     "output_type": "stream",
     "text": [
      "100%|██████████| 27725/27725 [01:54<00:00, 242.48it/s]\n"
     ]
    }
   ],
   "source": [
    "ds = KdramaDataset(os.path.join(dir_base, subdir_test, 'meta.txt'), use_spec=False, use_mel=True)"
   ]
  },
  {
   "cell_type": "code",
   "execution_count": 3,
   "metadata": {
    "scrolled": true
   },
   "outputs": [
    {
     "name": "stderr",
     "output_type": "stream",
     "text": [
      "100%|██████████| 110900/110900 [07:32<00:00, 245.27it/s]\n"
     ]
    }
   ],
   "source": [
    "ds = KdramaDataset(os.path.join(dir_base, subdir_train, 'meta.txt'), use_spec=False, use_mel=True)"
   ]
  },
  {
   "cell_type": "markdown",
   "metadata": {},
   "source": [
    "subdir_train / meta.txt 에서 105666, 105667 한자 자막 두줄 직접 제거함."
   ]
  },
  {
   "cell_type": "code",
   "execution_count": null,
   "metadata": {},
   "outputs": [],
   "source": []
  },
  {
   "cell_type": "code",
   "execution_count": null,
   "metadata": {},
   "outputs": [],
   "source": []
  },
  {
   "cell_type": "code",
   "execution_count": null,
   "metadata": {},
   "outputs": [],
   "source": []
  },
  {
   "cell_type": "code",
   "execution_count": null,
   "metadata": {},
   "outputs": [],
   "source": []
  }
 ],
 "metadata": {
  "kernelspec": {
   "display_name": "Python 3",
   "language": "python",
   "name": "python3"
  },
  "language_info": {
   "codemirror_mode": {
    "name": "ipython",
    "version": 3
   },
   "file_extension": ".py",
   "mimetype": "text/x-python",
   "name": "python",
   "nbconvert_exporter": "python",
   "pygments_lexer": "ipython3",
   "version": "3.6.10"
  }
 },
 "nbformat": 4,
 "nbformat_minor": 2
}
