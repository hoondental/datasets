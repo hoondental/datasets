{
 "cells": [
  {
   "cell_type": "code",
   "execution_count": 1,
   "metadata": {},
   "outputs": [],
   "source": [
    "import os\n",
    "import moviepy.editor as mp\n",
    "\n",
    "from subtitle import parse_smi, parse_srt, parse, extract_wav, extract_wav_save"
   ]
  },
  {
   "cell_type": "code",
   "execution_count": null,
   "metadata": {},
   "outputs": [],
   "source": [
    "dir_base= 'e:\\Desktop\\Kdrama' \n",
    "nbytes = 2\n",
    "fps = 16000"
   ]
  },
  {
   "cell_type": "code",
   "execution_count": 4,
   "metadata": {},
   "outputs": [],
   "source": [
    "dramas  = ['Answer1994', 'Answer1997', 'Emergency', 'GodQuiz', 'NeedRomance', 'NeedRomance3', \n",
    "           'OKLove', 'PotatoStar', 'WitchLove', 'YouFromStar']\n",
    "episodes = {'Answer1994':[1, 2, 3, 4, 5, 6, 7, 8, 9, 10, 11, 12, 13, 15, 16, 17, 18, 19, 20, 21], \n",
    "           'Answer1997': [14], \n",
    "           'Emergency':[1, 2, 3, 4, 5, 6, 7, 9, 10, 11, 12, 13, 14, 15, 16, 17, 18, 19, 20, 21], \n",
    "           'GodQuiz': [1, 2, 3, 4, 5, 6, 7, 8, 9, 10], \n",
    "           'NeedRomance': [1, 2, 3, 4, 5, 6, 8, 9, 10, 11, 12, 13, 14, 15, 16], \n",
    "           'NeedRomance3': list(range(1, 17)), \n",
    "           'OKLove': [1, 2, 3, 4, 5, 6, 7, 8, 9], \n",
    "           'PotatoStar': list(range(2, 99)) + [100, 101, 102] + list(range(104, 119)) + [120], \n",
    "           'WitchLove': list(range(1, 7)), \n",
    "           'YouFromStar': list(range(2, 19)) + [20, 21]}"
   ]
  },
  {
   "cell_type": "code",
   "execution_count": null,
   "metadata": {},
   "outputs": [],
   "source": [
    "for drama in dramas:\n",
    "    dir_drama = os.path.join(dir_base, drama)\n",
    "    dir_audio = os.path.join(dir_base, drama + '_audio')\n",
    "    os.makedirs(dir_audio, exist_ok=True)\n",
    "    files = os.listdir(dir_drama)\n",
    "    for ep in episodes[drama]:\n",
    "        dname = drama + '_' + str(ep)\n",
    "        for file in files:\n",
    "            if dname + '.' in file:\n",
    "                print('found video file: ', file)\n",
    "                dpath = os.path.join(dir_drama, file)\n",
    "                clip = mp.VideoFileClip(dpath)\n",
    "                apath = os.path.join(dir_audio, dname + '.wav')\n",
    "                clip.audio.write_audiofile(apath, fps=fps, nbytes=nbytes)\n",
    "                "
   ]
  }
 ],
 "metadata": {
  "kernelspec": {
   "display_name": "Python 3",
   "language": "python",
   "name": "python3"
  },
  "language_info": {
   "codemirror_mode": {
    "name": "ipython",
    "version": 3
   },
   "file_extension": ".py",
   "mimetype": "text/x-python",
   "name": "python",
   "nbconvert_exporter": "python",
   "pygments_lexer": "ipython3",
   "version": "3.6.10"
  }
 },
 "nbformat": 4,
 "nbformat_minor": 2
}
