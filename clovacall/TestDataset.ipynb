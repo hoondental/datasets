{
 "cells": [
  {
   "cell_type": "code",
   "execution_count": 1,
   "metadata": {},
   "outputs": [],
   "source": [
    "import os\n",
    "from clovacall_dataset import ClovaCallDataset\n"
   ]
  },
  {
   "cell_type": "code",
   "execution_count": 2,
   "metadata": {},
   "outputs": [],
   "source": [
    "dir_clova = '/home/dhlee/Data/TTS/ClovaCall'\n",
    "dir_train = os.path.join(dir_clova, 'train_16000_320')\n",
    "dir_val = os.path.join(dir_clova, 'val_16000_320')\n",
    "meta_train = os.path.join(dir_train, 'meta.txt')\n",
    "meta_val = os.path.join(dir_val, 'meta.txt')"
   ]
  },
  {
   "cell_type": "code",
   "execution_count": 3,
   "metadata": {},
   "outputs": [
    {
     "name": "stderr",
     "output_type": "stream",
     "text": [
      "100%|██████████| 46020/46020 [03:07<00:00, 245.94it/s] \n",
      "100%|██████████| 11505/11505 [00:46<00:00, 246.62it/s]\n"
     ]
    }
   ],
   "source": [
    "ds_train = ClovaCallDataset(meta_train)\n",
    "ds_val = ClovaCallDataset(meta_val)"
   ]
  },
  {
   "cell_type": "code",
   "execution_count": 5,
   "metadata": {},
   "outputs": [
    {
     "data": {
      "text/plain": [
       "{'idx': 0,\n",
       " 'text': array([48, 68, 50, 55,  9, 47, 59, 39, 75, 47, 60,  9, 54, 55, 42, 61, 79,\n",
       "         9, 39, 66, 38, 55, 47, 67,  7]),\n",
       " 'n_text': 25,\n",
       " 'spec': array([[1.0684670e-01, 2.5977097e-02, 1.0000000e-10, ..., 1.4036018e-01,\n",
       "         1.4713661e-01, 2.5939885e-01],\n",
       "        [9.0014726e-02, 6.4801939e-02, 1.0000000e-10, ..., 1.4139611e-01,\n",
       "         2.3829883e-01, 2.7691707e-01],\n",
       "        [7.3640898e-02, 1.0000000e-10, 3.1683274e-02, ..., 1.6541401e-01,\n",
       "         2.4438286e-01, 2.7369317e-01],\n",
       "        ...,\n",
       "        [1.0000000e-10, 1.0000000e-10, 1.0000000e-10, ..., 1.0000000e-10,\n",
       "         1.0000000e-10, 4.7881469e-02],\n",
       "        [1.0000000e-10, 1.0000000e-10, 1.0000000e-10, ..., 1.0000000e-10,\n",
       "         1.0000000e-10, 4.7832869e-02],\n",
       "        [1.0000000e-10, 1.0000000e-10, 1.0000000e-10, ..., 1.0000000e-10,\n",
       "         1.0000000e-10, 4.7811355e-02]], dtype=float32),\n",
       " 'n_frame': 627}"
      ]
     },
     "execution_count": 5,
     "metadata": {},
     "output_type": "execute_result"
    }
   ],
   "source": [
    "ds_train.__getitem__(0)"
   ]
  },
  {
   "cell_type": "code",
   "execution_count": 8,
   "metadata": {},
   "outputs": [],
   "source": [
    "used = []\n",
    "for i in range(len(ds_train)):\n",
    "    stext = ds_train._stext[i]\n",
    "    for s in stext:\n",
    "        if not s in used:\n",
    "            used.append(s)"
   ]
  },
  {
   "cell_type": "code",
   "execution_count": 10,
   "metadata": {},
   "outputs": [
    {
     "data": {
      "text/plain": [
       "58"
      ]
     },
     "execution_count": 10,
     "metadata": {},
     "output_type": "execute_result"
    }
   ],
   "source": [
    "len(used)"
   ]
  },
  {
   "cell_type": "code",
   "execution_count": null,
   "metadata": {},
   "outputs": [],
   "source": []
  }
 ],
 "metadata": {
  "kernelspec": {
   "display_name": "Python 3",
   "language": "python",
   "name": "python3"
  },
  "language_info": {
   "codemirror_mode": {
    "name": "ipython",
    "version": 3
   },
   "file_extension": ".py",
   "mimetype": "text/x-python",
   "name": "python",
   "nbconvert_exporter": "python",
   "pygments_lexer": "ipython3",
   "version": "3.6.10"
  }
 },
 "nbformat": 4,
 "nbformat_minor": 2
}
