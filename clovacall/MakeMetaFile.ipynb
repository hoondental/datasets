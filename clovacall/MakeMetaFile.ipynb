{
 "cells": [
  {
   "cell_type": "code",
   "execution_count": 1,
   "metadata": {},
   "outputs": [],
   "source": [
    "import os\n",
    "import json\n",
    "from collections import OrderedDict\n",
    "import numpy as np\n",
    "import random\n",
    "\n",
    "dir_clova = dir_clova = '/home/dhlee/Data/TTS/ClovaCall_data'"
   ]
  },
  {
   "cell_type": "code",
   "execution_count": 18,
   "metadata": {},
   "outputs": [],
   "source": [
    "meta = []\n",
    "for a, b, c in os.walk(dir_clova):\n",
    "    if len(c) == 0:\n",
    "        continue\n",
    "    for fname in c:\n",
    "        if 'csv' in fname:\n",
    "            fpath = os.path.join(a, fname)\n",
    "            with open(fpath, 'r') as f:\n",
    "                lines = f.readlines()\n",
    "                for line in lines:\n",
    "                    parts = line.strip().split(',')\n",
    "                    if len(parts) != 2:\n",
    "                        continue\n",
    "                    _meta = (os.path.join(a[len(dir_clova)+1:], parts[0].strip()), parts[1].strip())\n",
    "                    meta.append(_meta)                                       \n",
    "            \n",
    "with open(os.path.join(dir_clova, 'meta.txt'), 'w') as f:\n",
    "    lines = ''\n",
    "    for _meta in meta:\n",
    "        lines += '|'.join(_meta) + '\\n'\n",
    "    f.write(lines[:-1])"
   ]
  },
  {
   "cell_type": "code",
   "execution_count": 21,
   "metadata": {},
   "outputs": [],
   "source": [
    "def seperate_train_val(meta, val_ratio=0.2, dir_base=dir_clova, train_file='train_meta.txt', val_file='val_meta.txt'):\n",
    "    _len = len(meta)\n",
    "    n_val = int(_len * val_ratio)\n",
    "    n_train = _len - n_val\n",
    "    train_meta = []\n",
    "    val_meta = []\n",
    "    _train_index = np.random.choice(_len, n_train, replace=False)\n",
    "    for i in range(_len):\n",
    "        if i in _train_index:\n",
    "            train_meta.append(meta[i])\n",
    "        else:\n",
    "            val_meta.append(meta[i])\n",
    "    with open(os.path.join(dir_base, train_file), 'w') as f:\n",
    "        lines = ''\n",
    "        for _meta in train_meta:\n",
    "            lines += '|'.join(_meta) + '\\n'\n",
    "        f.write(lines[:-1])\n",
    "    with open(os.path.join(dir_base, val_file), 'w') as f:\n",
    "        lines = ''\n",
    "        for _meta in val_meta:\n",
    "            lines += '|'.join(_meta) + '\\n'\n",
    "        f.write(lines[:-1])"
   ]
  },
  {
   "cell_type": "code",
   "execution_count": 22,
   "metadata": {},
   "outputs": [],
   "source": [
    "seperate_train_val(meta)"
   ]
  },
  {
   "cell_type": "code",
   "execution_count": null,
   "metadata": {},
   "outputs": [],
   "source": []
  }
 ],
 "metadata": {
  "kernelspec": {
   "display_name": "Python 3",
   "language": "python",
   "name": "python3"
  },
  "language_info": {
   "codemirror_mode": {
    "name": "ipython",
    "version": 3
   },
   "file_extension": ".py",
   "mimetype": "text/x-python",
   "name": "python",
   "nbconvert_exporter": "python",
   "pygments_lexer": "ipython3",
   "version": "3.6.10"
  }
 },
 "nbformat": 4,
 "nbformat_minor": 2
}
