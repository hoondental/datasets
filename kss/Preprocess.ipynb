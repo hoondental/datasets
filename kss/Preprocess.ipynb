{
 "cells": [
  {
   "cell_type": "code",
   "execution_count": 1,
   "metadata": {},
   "outputs": [],
   "source": [
    "import os\n",
    "import re\n",
    "import json\n",
    "from collections import OrderedDict\n",
    "import numpy as np\n",
    "import random\n",
    "from preprocess import read_transcript, read_meta, save_meta, preprocess, seperate_train_val\n",
    "from kss_dataset import KssDataset\n",
    "from stts.kor_util import text2idx, idx2text\n",
    "import stts.kor_util as ku"
   ]
  },
  {
   "cell_type": "code",
   "execution_count": 2,
   "metadata": {},
   "outputs": [],
   "source": [
    "dir_base = '/home/dhlee/Data/TTS/korean-single-speaker'\n",
    "wav_subdirs = ['1', '2', '3', '4']\n",
    "path_transcript = os.path.join(dir_base, 'transcript.v.1.1.txt')\n",
    "\n",
    "\n",
    "sample_rate = 16000\n",
    "n_fft = 1024\n",
    "trim_db = 60\n",
    "\n",
    "subdir_train = 'train_' + str(sample_rate) + '_' + str(n_fft) \n",
    "subdir_test = 'test_' + str(sample_rate) + '_' + str(n_fft) \n",
    "\n",
    "dir_train = os.path.join(dir_base, subdir_train)\n",
    "dir_test = os.path.join(dir_base, subdir_test)"
   ]
  },
  {
   "cell_type": "markdown",
   "metadata": {},
   "source": [
    "# Preprocess"
   ]
  },
  {
   "cell_type": "code",
   "execution_count": 5,
   "metadata": {},
   "outputs": [],
   "source": [
    "read_transcript(path_transcript, os.path.join(dir_base, 'meta.txt'), ver='1.1')"
   ]
  },
  {
   "cell_type": "code",
   "execution_count": 3,
   "metadata": {},
   "outputs": [],
   "source": [
    "seperate_train_val(os.path.join(dir_base, 'meta.txt'))"
   ]
  },
  {
   "cell_type": "code",
   "execution_count": 5,
   "metadata": {},
   "outputs": [
    {
     "name": "stderr",
     "output_type": "stream",
     "text": [
      "100%|██████████| 10283/10283 [06:21<00:00, 26.99it/s]\n"
     ]
    }
   ],
   "source": [
    "preprocess(os.path.join(dir_base, 'train_meta.txt'), dir_base, out_subdir=subdir_train, sample_rate=sample_rate, trim_db=trim_db)"
   ]
  },
  {
   "cell_type": "code",
   "execution_count": 6,
   "metadata": {},
   "outputs": [
    {
     "name": "stderr",
     "output_type": "stream",
     "text": [
      "100%|██████████| 2570/2570 [01:42<00:00, 25.11it/s]\n"
     ]
    }
   ],
   "source": [
    "preprocess(os.path.join(dir_base, 'val_meta.txt'), dir_base, out_subdir=subdir_test, sample_rate=sample_rate, trim_db=trim_db)"
   ]
  },
  {
   "cell_type": "markdown",
   "metadata": {},
   "source": [
    "# Test Dataset"
   ]
  },
  {
   "cell_type": "code",
   "execution_count": 3,
   "metadata": {},
   "outputs": [],
   "source": []
  },
  {
   "cell_type": "code",
   "execution_count": 4,
   "metadata": {},
   "outputs": [
    {
     "name": "stderr",
     "output_type": "stream",
     "text": [
      "100%|██████████| 10283/10283 [00:41<00:00, 250.15it/s]\n"
     ]
    }
   ],
   "source": [
    "ds_train = KssDataset(os.path.join(dir_base, subdir_train, 'meta.txt'), use_spec=False, use_mel=True)"
   ]
  },
  {
   "cell_type": "code",
   "execution_count": 3,
   "metadata": {},
   "outputs": [
    {
     "name": "stderr",
     "output_type": "stream",
     "text": [
      "100%|██████████| 2570/2570 [00:10<00:00, 247.01it/s]\n"
     ]
    }
   ],
   "source": [
    "ds_val = KssDataset(os.path.join(dir_base, subdir_test, 'meta.txt'), use_spec=False, use_mel=True)"
   ]
  },
  {
   "cell_type": "code",
   "execution_count": 4,
   "metadata": {},
   "outputs": [
    {
     "data": {
      "text/plain": [
       "{'idx': 0,\n",
       " 'text': array([21, 41, 70, 13, 37, 12, 47,  9, 15, 29, 11, 35,  9, 20, 33, 15, 29,\n",
       "         6]),\n",
       " 'n_text': 18,\n",
       " 'mel': array([[1.0000000e-10, 1.0000000e-10, 1.0000000e-10, ..., 1.0000000e-10,\n",
       "         1.0000000e-10, 4.9986267e-03],\n",
       "        [8.4328383e-02, 6.6479489e-02, 7.2377779e-02, ..., 3.6616746e-02,\n",
       "         5.2624665e-02, 6.5197371e-02],\n",
       "        [3.9401397e-02, 1.0000000e-10, 8.3247527e-02, ..., 1.0000000e-10,\n",
       "         1.0000000e-10, 1.0000000e-10],\n",
       "        ...,\n",
       "        [7.0198365e-02, 9.7939149e-02, 1.6923112e-01, ..., 8.4713362e-02,\n",
       "         7.8871004e-02, 9.1051407e-02],\n",
       "        [6.3803025e-02, 7.7226564e-02, 1.2713714e-01, ..., 6.5558776e-02,\n",
       "         4.1827239e-02, 4.2386703e-02],\n",
       "        [1.0000000e-10, 1.0000000e-10, 1.5867004e-02, ..., 1.0000000e-10,\n",
       "         1.0000000e-10, 1.0000000e-10]], dtype=float32),\n",
       " 'n_frame': 110}"
      ]
     },
     "execution_count": 4,
     "metadata": {},
     "output_type": "execute_result"
    }
   ],
   "source": [
    "sample = ds_val.__getitem__(0)\n",
    "sample"
   ]
  },
  {
   "cell_type": "code",
   "execution_count": 5,
   "metadata": {},
   "outputs": [
    {
     "data": {
      "text/plain": [
       "'용도느 라껴 써라.'"
      ]
     },
     "execution_count": 5,
     "metadata": {},
     "output_type": "execute_result"
    }
   ],
   "source": [
    "ku.idx2text(sample['text'].tolist())"
   ]
  },
  {
   "cell_type": "markdown",
   "metadata": {},
   "source": [
    "# Check Spectrogram"
   ]
  },
  {
   "cell_type": "code",
   "execution_count": 7,
   "metadata": {},
   "outputs": [],
   "source": [
    "import matplotlib.pyplot as plt\n",
    "\n",
    "dir_spec = os.path.join(dir_test, 'spec')\n",
    "dir_mel = os.path.join(dir_test, 'mel')"
   ]
  },
  {
   "cell_type": "code",
   "execution_count": 8,
   "metadata": {},
   "outputs": [],
   "source": [
    "filename = '1_0004'\n",
    "path_spec = os.path.join(dir_spec, filename + '.spec.npy')\n",
    "path_mel = os.path.join(dir_mel, filename + '.mel.npy')"
   ]
  },
  {
   "cell_type": "code",
   "execution_count": 9,
   "metadata": {},
   "outputs": [],
   "source": [
    "spec = np.load(path_spec)\n",
    "mel = np.load(path_mel)"
   ]
  },
  {
   "cell_type": "code",
   "execution_count": 10,
   "metadata": {},
   "outputs": [
    {
     "data": {
      "text/plain": [
       "<matplotlib.image.AxesImage at 0x7fa58fd05da0>"
      ]
     },
     "execution_count": 10,
     "metadata": {},
     "output_type": "execute_result"
    },
    {
     "data": {
      "image/png": "[encoded data removed]",
      "text/plain": [
       "<Figure size 432x288 with 1 Axes>"
      ]
     },
     "metadata": {
      "needs_background": "light"
     },
     "output_type": "display_data"
    }
   ],
   "source": [
    "plt.imshow(spec)"
   ]
  },
  {
   "cell_type": "code",
   "execution_count": null,
   "metadata": {},
   "outputs": [],
   "source": [
    "plt.imshow(mel)"
   ]
  }
 ],
 "metadata": {
  "kernelspec": {
   "display_name": "Python 3",
   "language": "python",
   "name": "python3"
  },
  "language_info": {
   "codemirror_mode": {
    "name": "ipython",
    "version": 3
   },
   "file_extension": ".py",
   "mimetype": "text/x-python",
   "name": "python",
   "nbconvert_exporter": "python",
   "pygments_lexer": "ipython3",
   "version": "3.6.10"
  }
 },
 "nbformat": 4,
 "nbformat_minor": 2
}
