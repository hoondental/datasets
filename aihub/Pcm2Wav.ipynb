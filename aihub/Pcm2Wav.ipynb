{
 "cells": [
  {
   "cell_type": "code",
   "execution_count": 26,
   "metadata": {},
   "outputs": [],
   "source": [
    "import os\n",
    "import shutil\n",
    "import re\n",
    "from preprocess import process_text, make_metafile\n",
    "\n",
    "import json\n",
    "from collections import OrderedDict\n",
    "import numpy as np\n",
    "import random\n",
    "from preprocess import process_text, make_metafile, preprocess, seperate_train_val\n",
    "import matplotlib.pyplot as plt\n",
    "\n",
    "import librosa.util as librosa_util\n",
    "import librosa\n",
    "\n",
    "dir_base = '/home/dhlee/Data/TTS/aihub'\n",
    "dir_wav = os.path.join(dir_base, 'wavs')\n",
    "prefix = 'KsponSpeech'\n",
    "\n",
    "dirs_pcm = [os.path.join(dir_base, prefix + '_' + '%02d'%(i)) for i in range(1, 6)]\n",
    "\n",
    "sample_rate = 16000\n",
    "n_fft = 1024\n",
    "trim_db = 60\n"
   ]
  },
  {
   "cell_type": "code",
   "execution_count": 18,
   "metadata": {},
   "outputs": [],
   "source": [
    "def read_pcm(path_pcm):\n",
    "    with open(path_pcm, 'rb') as f:\n",
    "        pcm = f.read()\n",
    "    data = np.frombuffer(pcm, dtype=np.int16).astype(np.float32) / 32768.0\n",
    "    return data\n",
    "    \n",
    "def pcm2wav(path_pcm, path_wav, sample_rate=16000):\n",
    "    with open(path_pcm, 'rb') as f:\n",
    "        pcm = f.read()\n",
    "    data = np.frombuffer(pcm, dtype=np.int16).astype(np.float32) / 32768.0\n",
    "    librosa.output.write_wav(path_wav, data, sample_rate)"
   ]
  },
  {
   "cell_type": "code",
   "execution_count": 27,
   "metadata": {},
   "outputs": [],
   "source": [
    "for dir_pcm in dirs_pcm:\n",
    "    for a, b, c in os.walk(dir_pcm):\n",
    "        _dir = os.path.join(dir_wav, os.path.relpath(a, dir_base))\n",
    "        os.makedirs(_dir, exist_ok=True)\n",
    "        for f in c:\n",
    "            if 'pcm' in f:\n",
    "                fpcm = f\n",
    "                ftxt = f[:-3] + 'txt'\n",
    "                fwav = f[:-3] + 'wav'\n",
    "                pcm2wav(os.path.join(a, fpcm), os.path.join(_dir, fwav), sample_rate)\n",
    "                shutil.copy(os.path.join(a, ftxt), os.path.join(_dir,ftxt))\n",
    "            \n",
    "            "
   ]
  },
  {
   "cell_type": "code",
   "execution_count": null,
   "metadata": {},
   "outputs": [],
   "source": []
  },
  {
   "cell_type": "code",
   "execution_count": null,
   "metadata": {},
   "outputs": [],
   "source": []
  },
  {
   "cell_type": "code",
   "execution_count": null,
   "metadata": {},
   "outputs": [],
   "source": []
  },
  {
   "cell_type": "code",
   "execution_count": null,
   "metadata": {},
   "outputs": [],
   "source": []
  }
 ],
 "metadata": {
  "kernelspec": {
   "display_name": "Python 3",
   "language": "python",
   "name": "python3"
  },
  "language_info": {
   "codemirror_mode": {
    "name": "ipython",
    "version": 3
   },
   "file_extension": ".py",
   "mimetype": "text/x-python",
   "name": "python",
   "nbconvert_exporter": "python",
   "pygments_lexer": "ipython3",
   "version": "3.6.10"
  }
 },
 "nbformat": 4,
 "nbformat_minor": 2
}
