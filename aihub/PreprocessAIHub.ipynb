{
 "cells": [
  {
   "cell_type": "code",
   "execution_count": 1,
   "metadata": {},
   "outputs": [],
   "source": [
    "import os\n",
    "import re\n",
    "from preprocess import process_text, make_metafile\n",
    "\n",
    "import json\n",
    "from collections import OrderedDict\n",
    "import numpy as np\n",
    "import random\n",
    "from preprocess import process_text, make_metafile, preprocess, seperate_train_val\n",
    "\n",
    "dir_base = '/home/dhlee/Data/TTS/aihub'\n",
    "\n",
    "sample_rate = 16000\n",
    "n_fft = 1024\n",
    "trim_db = 60\n",
    "\n",
    "subdir_train = 'train_' + str(sample_rate) + '_' + str(n_fft) \n",
    "subdir_test = 'test_' + str(sample_rate) + '_' + str(n_fft) \n"
   ]
  },
  {
   "cell_type": "code",
   "execution_count": 2,
   "metadata": {},
   "outputs": [],
   "source": [
    "make_metafile(dir_base)"
   ]
  },
  {
   "cell_type": "code",
   "execution_count": 2,
   "metadata": {},
   "outputs": [],
   "source": [
    "seperate_train_val(os.path.join(dir_base, 'meta.txt'))"
   ]
  },
  {
   "cell_type": "code",
   "execution_count": 3,
   "metadata": {},
   "outputs": [
    {
     "name": "stderr",
     "output_type": "stream",
     "text": [
      "100%|██████████| 498036/498036 [38:58<00:00, 213.00it/s]  \n"
     ]
    }
   ],
   "source": [
    "preprocess(os.path.join(dir_base, 'train_meta.txt'), dir_base, out_subdir=subdir_train, sample_rate=sample_rate, trim_db=trim_db)"
   ]
  },
  {
   "cell_type": "code",
   "execution_count": 2,
   "metadata": {},
   "outputs": [
    {
     "name": "stderr",
     "output_type": "stream",
     "text": [
      "100%|██████████| 124509/124509 [00:49<00:00, 2505.41it/s]\n"
     ]
    }
   ],
   "source": [
    "preprocess(os.path.join(dir_base, 'val_meta.txt'), dir_base, out_subdir=subdir_test, sample_rate=sample_rate, trim_db=trim_db)"
   ]
  },
  {
   "cell_type": "code",
   "execution_count": null,
   "metadata": {},
   "outputs": [],
   "source": []
  },
  {
   "cell_type": "code",
   "execution_count": null,
   "metadata": {},
   "outputs": [],
   "source": []
  },
  {
   "cell_type": "code",
   "execution_count": null,
   "metadata": {},
   "outputs": [],
   "source": []
  },
  {
   "cell_type": "code",
   "execution_count": null,
   "metadata": {},
   "outputs": [],
   "source": []
  },
  {
   "cell_type": "code",
   "execution_count": null,
   "metadata": {},
   "outputs": [],
   "source": []
  },
  {
   "cell_type": "code",
   "execution_count": null,
   "metadata": {},
   "outputs": [],
   "source": []
  },
  {
   "cell_type": "code",
   "execution_count": null,
   "metadata": {},
   "outputs": [],
   "source": []
  },
  {
   "cell_type": "code",
   "execution_count": null,
   "metadata": {},
   "outputs": [],
   "source": []
  },
  {
   "cell_type": "code",
   "execution_count": null,
   "metadata": {},
   "outputs": [],
   "source": []
  },
  {
   "cell_type": "code",
   "execution_count": null,
   "metadata": {},
   "outputs": [],
   "source": []
  },
  {
   "cell_type": "code",
   "execution_count": null,
   "metadata": {},
   "outputs": [],
   "source": []
  }
 ],
 "metadata": {
  "kernelspec": {
   "display_name": "Python 3",
   "language": "python",
   "name": "python3"
  },
  "language_info": {
   "codemirror_mode": {
    "name": "ipython",
    "version": 3
   },
   "file_extension": ".py",
   "mimetype": "text/x-python",
   "name": "python",
   "nbconvert_exporter": "python",
   "pygments_lexer": "ipython3",
   "version": "3.6.10"
  }
 },
 "nbformat": 4,
 "nbformat_minor": 2
}
