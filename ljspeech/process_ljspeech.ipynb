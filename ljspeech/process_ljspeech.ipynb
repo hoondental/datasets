{
 "cells": [
  {
   "cell_type": "code",
   "execution_count": 1,
   "metadata": {},
   "outputs": [],
   "source": [
    "import librosa\n",
    "import librosa.filters\n",
    "import numpy as np\n",
    "from scipy import signal\n",
    "import math\n",
    "import os\n",
    "import torch\n",
    "\n",
    "import matplotlib\n",
    "import matplotlib.pyplot as plt\n",
    "\n",
    "from stts import audio, audio_torch, textutil, util\n",
    "from preprocess import preprocess, read_metadata, seperate_train_val, process_wavfiles\n",
    "from ljdataset import LJDataset\n",
    "\n",
    "data_dir = '/home/dhlee/Workplace/LJSpeech-1.1'\n",
    "sample_rate = 22050\n",
    "trim_db = None\n",
    "mono = True\n",
    "n_fft = 2048\n",
    "win_length = 1024\n",
    "hop_length =256\n",
    "n_mels = 80\n",
    "decibel = True\n",
    "normalize = True\n",
    "num_workers = 12\n",
    "\n",
    "num_vals = 3100\n",
    "\n",
    "out_dir = os.path.join(data_dir, 's'+ str(sample_rate) + 'f' + str(n_fft) + 'w' + str(win_length) + 'h' + str(hop_length) + 'm' + str(n_mels) )\n"
   ]
  },
  {
   "cell_type": "code",
   "execution_count": 2,
   "metadata": {},
   "outputs": [],
   "source": [
    "#preprocess(data_dir, out_dir, num_vals, sample_rate, n_fft, win_length, hop_length, n_mels, mono, trim_db, decibel, normalize)"
   ]
  },
  {
   "cell_type": "markdown",
   "metadata": {},
   "source": [
    "# Or, "
   ]
  },
  {
   "cell_type": "code",
   "execution_count": 3,
   "metadata": {},
   "outputs": [],
   "source": [
    "train_dir = os.path.join(out_dir, 'train')\n",
    "val_dir = os.path.join(out_dir, 'val')\n",
    "if not os.path.exists(train_dir):\n",
    "    os.makedirs(train_dir)\n",
    "if not os.path.exists(val_dir):\n",
    "    os.makedirs(val_dir)"
   ]
  },
  {
   "cell_type": "code",
   "execution_count": 4,
   "metadata": {},
   "outputs": [],
   "source": [
    "meta = read_metadata(data_dir)"
   ]
  },
  {
   "cell_type": "code",
   "execution_count": 5,
   "metadata": {},
   "outputs": [],
   "source": [
    "train, val = seperate_train_val(meta, num_vals)"
   ]
  },
  {
   "cell_type": "code",
   "execution_count": 6,
   "metadata": {},
   "outputs": [
    {
     "name": "stderr",
     "output_type": "stream",
     "text": [
      "100%|██████████| 10000/10000 [04:54<00:00, 33.91it/s]\n"
     ]
    }
   ],
   "source": [
    "process_wavfiles(train, train_dir, sample_rate, trim_db, mono, n_fft, win_length, hop_length, n_mels, decibel, normalize)"
   ]
  },
  {
   "cell_type": "code",
   "execution_count": null,
   "metadata": {},
   "outputs": [
    {
     "name": "stderr",
     "output_type": "stream",
     "text": [
      " 71%|███████   | 2192/3100 [01:04<00:31, 28.79it/s]"
     ]
    }
   ],
   "source": [
    "process_wavfiles(val, val_dir, sample_rate, trim_db, mono, n_fft, win_length, hop_length, n_mels, decibel, normalize)"
   ]
  },
  {
   "cell_type": "code",
   "execution_count": null,
   "metadata": {},
   "outputs": [],
   "source": []
  }
 ],
 "metadata": {
  "kernelspec": {
   "display_name": "Python 3",
   "language": "python",
   "name": "python3"
  },
  "language_info": {
   "codemirror_mode": {
    "name": "ipython",
    "version": 3
   },
   "file_extension": ".py",
   "mimetype": "text/x-python",
   "name": "python",
   "nbconvert_exporter": "python",
   "pygments_lexer": "ipython3",
   "version": "3.6.10"
  }
 },
 "nbformat": 4,
 "nbformat_minor": 2
}
