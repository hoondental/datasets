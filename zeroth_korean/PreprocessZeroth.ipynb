{
 "cells": [
  {
   "cell_type": "code",
   "execution_count": 9,
   "metadata": {},
   "outputs": [],
   "source": [
    "import os\n",
    "import json\n",
    "from collections import OrderedDict\n",
    "import numpy as np\n",
    "import random\n",
    "from preprocess import preprocess, make_metafiles\n",
    "\n",
    "dir_zeroth = '/home/dhlee/Data/TTS/zeroth_korean'\n",
    "\n",
    "sample_rate = 16000\n",
    "n_fft = 1024\n",
    "trim_db = 60\n",
    "\n",
    "subdir_train = 'train_' + str(sample_rate) + '_' + str(n_fft) \n",
    "subdir_test = 'test_' + str(sample_rate) + '_' + str(n_fft) \n",
    "meta_train = 'train_meta.txt'\n",
    "meta_test = 'test_meta.txt'"
   ]
  },
  {
   "cell_type": "code",
   "execution_count": 10,
   "metadata": {},
   "outputs": [],
   "source": [
    "make_metafiles(dir_zeroth)"
   ]
  },
  {
   "cell_type": "code",
   "execution_count": 15,
   "metadata": {},
   "outputs": [
    {
     "name": "stderr",
     "output_type": "stream",
     "text": [
      "100%|██████████| 22263/22263 [59:23<00:00,  6.25it/s]  \n"
     ]
    }
   ],
   "source": [
    "preprocess(dir_zeroth, meta_train, subdir_train, sample_rate=sample_rate, n_fft=n_fft, trim_db=trim_db)"
   ]
  },
  {
   "cell_type": "code",
   "execution_count": 14,
   "metadata": {},
   "outputs": [
    {
     "name": "stderr",
     "output_type": "stream",
     "text": [
      "100%|██████████| 457/457 [01:39<00:00,  4.59it/s]\n"
     ]
    }
   ],
   "source": [
    "preprocess(dir_zeroth, meta_test, subdir_test, sample_rate=sample_rate, n_fft=n_fft, trim_db=trim_db)"
   ]
  },
  {
   "cell_type": "code",
   "execution_count": null,
   "metadata": {},
   "outputs": [],
   "source": []
  }
 ],
 "metadata": {
  "kernelspec": {
   "display_name": "Python 3",
   "language": "python",
   "name": "python3"
  },
  "language_info": {
   "codemirror_mode": {
    "name": "ipython",
    "version": 3
   },
   "file_extension": ".py",
   "mimetype": "text/x-python",
   "name": "python",
   "nbconvert_exporter": "python",
   "pygments_lexer": "ipython3",
   "version": "3.6.10"
  }
 },
 "nbformat": 4,
 "nbformat_minor": 2
}
